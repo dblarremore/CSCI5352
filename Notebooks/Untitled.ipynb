{
 "cells": [
  {
   "cell_type": "markdown",
   "metadata": {},
   "source": [
    "# Imports"
   ]
  },
  {
   "cell_type": "code",
   "execution_count": 1,
   "metadata": {},
   "outputs": [],
   "source": [
    "import numpy as np\n",
    "from webweb import Web"
   ]
  },
  {
   "cell_type": "markdown",
   "metadata": {},
   "source": [
    "# Erdos Renyi Random Graph Model"
   ]
  },
  {
   "cell_type": "markdown",
   "metadata": {},
   "source": [
    "* Sometimes this is called the ER Model for network formation\n",
    "* Sometimes called $G(n,p)$"
   ]
  },
  {
   "cell_type": "markdown",
   "metadata": {},
   "source": [
    "Two parameters:\n",
    "- $n$ is the number of nodes\n",
    "- $p$ is the probability that any pair of nodes is connected with an edge"
   ]
  },
  {
   "cell_type": "markdown",
   "metadata": {},
   "source": [
    "# Create a random network"
   ]
  },
  {
   "cell_type": "code",
   "execution_count": 14,
   "metadata": {},
   "outputs": [],
   "source": [
    "n = 25\n",
    "p = 0.25\n",
    "\n",
    "A = np.zeros((n,n))\n",
    "for i in range(1,n):\n",
    "    for j in range(i):\n",
    "        if np.random.rand() < p:\n",
    "            A[i,j] = 1\n",
    "            A[j,i] = 1"
   ]
  },
  {
   "cell_type": "code",
   "execution_count": 15,
   "metadata": {},
   "outputs": [],
   "source": [
    "k = np.sum(A,axis=0)"
   ]
  },
  {
   "cell_type": "code",
   "execution_count": 16,
   "metadata": {},
   "outputs": [
    {
     "data": {
      "text/plain": [
       "array([7., 4., 4., 7., 5., 5., 6., 5., 8., 7., 8., 6., 4., 6., 6., 5., 7.,\n",
       "       6., 4., 8., 3., 5., 6., 3., 7.])"
      ]
     },
     "execution_count": 16,
     "metadata": {},
     "output_type": "execute_result"
    }
   ],
   "source": [
    "k"
   ]
  },
  {
   "cell_type": "code",
   "execution_count": 17,
   "metadata": {},
   "outputs": [
    {
     "data": {
      "text/plain": [
       "5.68"
      ]
     },
     "execution_count": 17,
     "metadata": {},
     "output_type": "execute_result"
    }
   ],
   "source": [
    "np.mean(k)"
   ]
  },
  {
   "cell_type": "code",
   "execution_count": 19,
   "metadata": {},
   "outputs": [
    {
     "data": {
      "text/plain": [
       "34.4"
      ]
     },
     "execution_count": 19,
     "metadata": {},
     "output_type": "execute_result"
    }
   ],
   "source": [
    "np.mean(k**2)"
   ]
  },
  {
   "cell_type": "code",
   "execution_count": 21,
   "metadata": {},
   "outputs": [],
   "source": [
    "import matplotlib.pyplot as plt"
   ]
  },
  {
   "cell_type": "code",
   "execution_count": 24,
   "metadata": {},
   "outputs": [
    {
     "data": {
      "text/plain": [
       "Text(0, 0.5, 'mean neighbor degree / mean degree')"
      ]
     },
     "execution_count": 24,
     "metadata": {},
     "output_type": "execute_result"
    },
    {
     "data": {
      "image/png": "[encoded data removed]",
      "text/plain": [
       "<Figure size 432x288 with 1 Axes>"
      ]
     },
     "metadata": {
      "needs_background": "light"
     },
     "output_type": "display_data"
    }
   ],
   "source": [
    "x = np.mean(k)\n",
    "y = np.mean(k**2)/np.mean(k)/np.mean(k)\n",
    "\n",
    "fig,ax = plt.subplots(1,1)\n",
    "ax.scatter(x,y)\n",
    "ax.set_xlabel('mean degree')\n",
    "ax.set_ylabel('mean neighbor degree / mean degree')"
   ]
  },
  {
   "cell_type": "code",
   "execution_count": 80,
   "metadata": {},
   "outputs": [],
   "source": [
    "def incremental_sample_nab(s,na_min=30,na_max=50):    \n",
    "    # total repertoire size\n",
    "    pool = 60\n",
    "    \n",
    "    # preallocate the array to be returned\n",
    "    nabs = np.zeros(pool+1)\n",
    "\n",
    "    # represent the items in the set by ints from 0 to 60, and from 60-s to 120-s\n",
    "    # In this way, these sets will share s items\n",
    "    repertoire_a = np.arange(60)\n",
    "    repertoire_b = np.arange(60-s,120-s)\n",
    "\n",
    "    # Create random samples from each repertoire\n",
    "    sampled_a = np.random.choice(repertoire_a,size=na_min,replace=False)\n",
    "    sampled_b = np.random.choice(repertoire_b,size=na_min,replace=False)\n",
    "\n",
    "    # Set Diff to get the items that WEREN'T sampled\n",
    "    unsampled_a = np.setdiff1d(repertoire_a, sampled_a)\n",
    "    unsampled_b = np.setdiff1d(repertoire_b, sampled_b)\n",
    "\n",
    "    # Compute the length of the intersection\n",
    "    nabs[na_min] = len(np.intersect1d(sampled_a,sampled_b,assume_unique=True))\n",
    "\n",
    "    # Now shuffle the unsampled items so that choosing the last item\n",
    "    # from each array is equivalent to drawing from the ordered array at random\n",
    "    np.random.shuffle(unsampled_a) #inplace shuffle\n",
    "    np.random.shuffle(unsampled_b) #inplace shuffle\n",
    "\n",
    "    # Iterate over values of na from 31 up to 50, incrementally gaining one more\n",
    "    # sample each time.\n",
    "    for na in np.arange(na_min+1,na_max+1):\n",
    "        # Sample 1 more from a\n",
    "        sampled_a = np.append(sampled_a,unsampled_a[-1])\n",
    "        unsampled_a = np.delete(unsampled_a,-1)\n",
    "\n",
    "        # Sample 1 more from b\n",
    "        sampled_b = np.append(sampled_b,unsampled_b[-1])\n",
    "        unsampled_b = np.delete(unsampled_b,-1)\n",
    "\n",
    "        # Compute new intersection size\n",
    "        nabs[na] = len(np.intersect1d(sampled_a,sampled_b,assume_unique=True))\n",
    "\n",
    "    return nabs"
   ]
  },
  {
   "cell_type": "code",
   "execution_count": 101,
   "metadata": {},
   "outputs": [
    {
     "data": {
      "text/plain": [
       "array([ 0.,  0.,  0.,  0.,  0.,  0.,  0.,  0.,  0.,  0.,  0.,  0.,  0.,\n",
       "        0.,  0.,  0.,  0.,  0.,  0.,  0.,  0.,  0.,  0.,  0.,  0.,  0.,\n",
       "        0.,  0.,  0.,  0., 16., 18., 19., 21., 22., 23., 24., 25., 26.,\n",
       "       27., 28., 30., 31., 33., 35., 37., 38., 40., 41., 41., 43., 45.,\n",
       "       47., 48., 49., 50., 52., 54., 56., 58., 60.])"
      ]
     },
     "execution_count": 101,
     "metadata": {},
     "output_type": "execute_result"
    }
   ],
   "source": [
    "incremental_sample_nab(60,30,60)"
   ]
  },
  {
   "cell_type": "code",
   "execution_count": 51,
   "metadata": {},
   "outputs": [
    {
     "ename": "ValueError",
     "evalue": "a must be 1-dimensional or an integer",
     "output_type": "error",
     "traceback": [
      "\u001b[0;31m---------------------------------------------------------------------------\u001b[0m",
      "\u001b[0;31mTypeError\u001b[0m                                 Traceback (most recent call last)",
      "\u001b[0;32mmtrand.pyx\u001b[0m in \u001b[0;36mnumpy.random.mtrand.RandomState.choice\u001b[0;34m()\u001b[0m\n",
      "\u001b[0;31mTypeError\u001b[0m: 'set' object cannot be interpreted as an integer",
      "\nDuring handling of the above exception, another exception occurred:\n",
      "\u001b[0;31mValueError\u001b[0m                                Traceback (most recent call last)",
      "\u001b[0;32m<ipython-input-51-bef4fa5d58a0>\u001b[0m in \u001b[0;36m<module>\u001b[0;34m\u001b[0m\n\u001b[0;32m----> 1\u001b[0;31m \u001b[0mnp\u001b[0m\u001b[0;34m.\u001b[0m\u001b[0mrandom\u001b[0m\u001b[0;34m.\u001b[0m\u001b[0mchoice\u001b[0m\u001b[0;34m(\u001b[0m\u001b[0msampled_a\u001b[0m\u001b[0;34m)\u001b[0m\u001b[0;34m\u001b[0m\u001b[0;34m\u001b[0m\u001b[0m\n\u001b[0m",
      "\u001b[0;32mmtrand.pyx\u001b[0m in \u001b[0;36mnumpy.random.mtrand.RandomState.choice\u001b[0;34m()\u001b[0m\n",
      "\u001b[0;31mValueError\u001b[0m: a must be 1-dimensional or an integer"
     ]
    }
   ],
   "source": [
    "np.random.choice(sampled_a)"
   ]
  }
 ],
 "metadata": {
  "kernelspec": {
   "display_name": "Python 3",
   "language": "python",
   "name": "python3"
  },
  "language_info": {
   "codemirror_mode": {
    "name": "ipython",
    "version": 3
   },
   "file_extension": ".py",
   "mimetype": "text/x-python",
   "name": "python",
   "nbconvert_exporter": "python",
   "pygments_lexer": "ipython3",
   "version": "3.7.4"
  }
 },
 "nbformat": 4,
 "nbformat_minor": 4
}
